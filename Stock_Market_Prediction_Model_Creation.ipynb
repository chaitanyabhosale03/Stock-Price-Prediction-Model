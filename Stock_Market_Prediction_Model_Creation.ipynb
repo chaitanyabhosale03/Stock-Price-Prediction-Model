{
 "cells": [
  {
   "cell_type": "code",
   "execution_count": 1,
   "id": "88d67c13-1dca-451c-85d5-eb234183c342",
   "metadata": {
    "tags": []
   },
   "outputs": [],
   "source": [
    "import numpy as np\n",
    "import matplotlib.pyplot as plt\n",
    "import yfinance as yf\n",
    "import pandas as pd\n",
    "from tensorflow import keras\n",
    "from datetime import datetime, timedelta\n",
    "from polygon import RESTClient"
   ]
  },
  {
   "cell_type": "code",
   "execution_count": null,
   "id": "f3bc102c-1442-4cae-9093-f77f2b7b7e0c",
   "metadata": {
    "tags": []
   },
   "outputs": [
    {
     "name": "stderr",
     "output_type": "stream",
     "text": [
      "[*********************100%***********************]  1 of 1 completed\n",
      "\n",
      "1 Failed download:\n",
      "['AAPL']: YFRateLimitError('Too Many Requests. Rate limited. Try after a while.')\n"
     ]
    }
   ],
   "source": [
    "# start = '20-01-01'\n",
    "# end = '2025-05-14' #datetime.date.today().strftime('%Y-%m-%d')\n",
    "# stock = 'AAPL'\n",
    "\n",
    "# data = yf.download(stock, start, end)\n",
    "\n",
    "client = RESTClient(\"qtp5Ybu7plDZOW7pZV_tKgeelkg3HCY8\")\n",
    "\n",
    "# Define date range\n",
    "start_date = \"2012-01-01\"\n",
    "end_date = datetime.now().strftime(\"%Y-%m-%d\")\n",
    "\n",
    "try:\n",
    "    # Get daily bars for AAPL\n",
    "    bars = client.get_aggs(\n",
    "        ticker=\"AAPL\",\n",
    "        multiplier=1,\n",
    "        timespan=\"day\",\n",
    "        from_=start_date,\n",
    "        to=end_date\n",
    "    )\n",
    "    \n",
    "    # Convert to DataFrame\n",
    "    data = pd.DataFrame([bar.__dict__ for bar in bars])\n",
    "    # Convert timestamp to datetime\n",
    "    data['datetime'] = pd.to_datetime(data['timestamp'], unit='ms')\n",
    "    data = data.set_index('datetime')\n",
    "\n",
    "    \n",
    "    \n",
    "    print(data.head())\n",
    "except Exception as e:\n",
    "    print(f\"Error with Polygon.io: {e}\")"
   ]
  },
  {
   "cell_type": "code",
   "execution_count": 12,
   "id": "ea32436c",
   "metadata": {},
   "outputs": [
    {
     "name": "stdout",
     "output_type": "stream",
     "text": [
      "Attempt 1: Downloading AAPL...\n"
     ]
    },
    {
     "name": "stderr",
     "output_type": "stream",
     "text": [
      "[*********************100%***********************]  1 of 1 completed\n",
      "\n",
      "1 Failed download:\n",
      "['AAPL']: YFRateLimitError('Too Many Requests. Rate limited. Try after a while.')\n"
     ]
    },
    {
     "name": "stdout",
     "output_type": "stream",
     "text": [
      "Warning: Empty data returned for AAPL\n",
      "Empty DataFrame\n",
      "Columns: [(Adj Close, AAPL), (Close, AAPL), (High, AAPL), (Low, AAPL), (Open, AAPL), (Volume, AAPL)]\n",
      "Index: []\n",
      "Attempt 1: Downloading MSFT...\n"
     ]
    },
    {
     "name": "stderr",
     "output_type": "stream",
     "text": [
      "[*********************100%***********************]  1 of 1 completed\n",
      "\n",
      "1 Failed download:\n",
      "['MSFT']: YFRateLimitError('Too Many Requests. Rate limited. Try after a while.')\n"
     ]
    },
    {
     "name": "stdout",
     "output_type": "stream",
     "text": [
      "Warning: Empty data returned for MSFT\n",
      "Attempt 1: Downloading GOOG...\n"
     ]
    },
    {
     "name": "stderr",
     "output_type": "stream",
     "text": [
      "[*********************100%***********************]  1 of 1 completed\n",
      "\n",
      "1 Failed download:\n",
      "['GOOG']: YFRateLimitError('Too Many Requests. Rate limited. Try after a while.')\n"
     ]
    },
    {
     "name": "stdout",
     "output_type": "stream",
     "text": [
      "Warning: Empty data returned for GOOG\n",
      "Attempt 1: Downloading AMZN...\n"
     ]
    },
    {
     "name": "stderr",
     "output_type": "stream",
     "text": [
      "[*********************100%***********************]  1 of 1 completed\n",
      "\n",
      "1 Failed download:\n",
      "['AMZN']: YFRateLimitError('Too Many Requests. Rate limited. Try after a while.')\n"
     ]
    },
    {
     "name": "stdout",
     "output_type": "stream",
     "text": [
      "Warning: Empty data returned for AMZN\n"
     ]
    }
   ],
   "source": [
    "import yfinance as yf\n",
    "import time\n",
    "import random\n",
    "from requests.exceptions import RequestException\n",
    "\n",
    "def download_with_retry(ticker, period=\"1y\", interval=\"1d\", max_retries=5, initial_delay=2):\n",
    "    \"\"\"\n",
    "    Download stock data with exponential backoff retry logic.\n",
    "    \n",
    "    Args:\n",
    "        ticker (str): Stock ticker symbol\n",
    "        period (str): Time period to download (default: \"1y\")\n",
    "        interval (str): Data interval (default: \"1d\")\n",
    "        max_retries (int): Maximum number of retry attempts\n",
    "        initial_delay (int): Initial delay in seconds between retries\n",
    "        \n",
    "    Returns:\n",
    "        pandas.DataFrame: Downloaded stock data\n",
    "    \"\"\"\n",
    "    attempt = 0\n",
    "    delay = initial_delay\n",
    "    \n",
    "    while attempt < max_retries:\n",
    "        try:\n",
    "            print(f\"Attempt {attempt+1}: Downloading {ticker}...\")\n",
    "            data = yf.download(ticker, period=period, interval=interval, progress=True)\n",
    "            \n",
    "            if data.empty:\n",
    "                print(f\"Warning: Empty data returned for {ticker}\")\n",
    "            \n",
    "            return data\n",
    "            \n",
    "        except Exception as e:\n",
    "            attempt += 1\n",
    "            \n",
    "            if \"YFRateLimitError\" in str(e) or \"Too Many Requests\" in str(e):\n",
    "                jitter = random.uniform(0.8, 1.2)  # Add randomness to avoid thundering herd\n",
    "                sleep_time = delay * jitter\n",
    "                \n",
    "                if attempt < max_retries:\n",
    "                    print(f\"Rate limit hit. Retrying in {sleep_time:.2f} seconds...\")\n",
    "                    time.sleep(sleep_time)\n",
    "                    delay *= 2  # Exponential backoff\n",
    "                else:\n",
    "                    print(f\"Maximum retries reached for {ticker}. Error: {e}\")\n",
    "                    raise\n",
    "            else:\n",
    "                print(f\"Error downloading {ticker}: {e}\")\n",
    "                # For non-rate limit errors, we might want to retry fewer times\n",
    "                if attempt < max_retries:\n",
    "                    time.sleep(delay)\n",
    "                else:\n",
    "                    raise\n",
    "\n",
    "# Example usage\n",
    "try:\n",
    "    # Single ticker\n",
    "    aapl_data = download_with_retry(\"AAPL\")\n",
    "    print(aapl_data.tail())\n",
    "    \n",
    "    # Multiple tickers\n",
    "    tickers = [\"MSFT\", \"GOOG\", \"AMZN\"]\n",
    "    all_data = {}\n",
    "    \n",
    "    for ticker in tickers:\n",
    "        # Add small delay between different tickers\n",
    "        time.sleep(1)\n",
    "        all_data[ticker] = download_with_retry(ticker)\n",
    "        \n",
    "except Exception as e:\n",
    "    print(f\"Failed to download data: {e}\")"
   ]
  },
  {
   "cell_type": "code",
   "execution_count": 4,
   "id": "deb4ec4c",
   "metadata": {},
   "outputs": [],
   "source": [
    "data.reset_index(inplace=True)\n"
   ]
  },
  {
   "cell_type": "code",
   "execution_count": 5,
   "id": "e8fadd81-946b-47fc-b014-8ecf059302ce",
   "metadata": {
    "tags": []
   },
   "outputs": [
    {
     "data": {
      "application/vnd.microsoft.datawrangler.viewer.v0+json": {
       "columns": [
        {
         "name": "index",
         "rawType": "int64",
         "type": "integer"
        },
        {
         "name": "('Date', '')",
         "rawType": "datetime64[ns]",
         "type": "datetime"
        },
        {
         "name": "('Adj Close', 'AAPL')",
         "rawType": "float64",
         "type": "float"
        },
        {
         "name": "('Close', 'AAPL')",
         "rawType": "float64",
         "type": "float"
        },
        {
         "name": "('High', 'AAPL')",
         "rawType": "float64",
         "type": "float"
        },
        {
         "name": "('Low', 'AAPL')",
         "rawType": "float64",
         "type": "float"
        },
        {
         "name": "('Open', 'AAPL')",
         "rawType": "float64",
         "type": "float"
        },
        {
         "name": "('Volume', 'AAPL')",
         "rawType": "float64",
         "type": "float"
        }
       ],
       "conversionMethod": "pd.DataFrame",
       "ref": "ca7485ea-cc9a-4c62-a3ea-4499a18e747f",
       "rows": [],
       "shape": {
        "columns": 7,
        "rows": 0
       }
      },
      "text/html": [
       "<div>\n",
       "<style scoped>\n",
       "    .dataframe tbody tr th:only-of-type {\n",
       "        vertical-align: middle;\n",
       "    }\n",
       "\n",
       "    .dataframe tbody tr th {\n",
       "        vertical-align: top;\n",
       "    }\n",
       "\n",
       "    .dataframe thead tr th {\n",
       "        text-align: left;\n",
       "    }\n",
       "</style>\n",
       "<table border=\"1\" class=\"dataframe\">\n",
       "  <thead>\n",
       "    <tr>\n",
       "      <th>Price</th>\n",
       "      <th>Date</th>\n",
       "      <th>Adj Close</th>\n",
       "      <th>Close</th>\n",
       "      <th>High</th>\n",
       "      <th>Low</th>\n",
       "      <th>Open</th>\n",
       "      <th>Volume</th>\n",
       "    </tr>\n",
       "    <tr>\n",
       "      <th>Ticker</th>\n",
       "      <th></th>\n",
       "      <th>AAPL</th>\n",
       "      <th>AAPL</th>\n",
       "      <th>AAPL</th>\n",
       "      <th>AAPL</th>\n",
       "      <th>AAPL</th>\n",
       "      <th>AAPL</th>\n",
       "    </tr>\n",
       "  </thead>\n",
       "  <tbody>\n",
       "  </tbody>\n",
       "</table>\n",
       "</div>"
      ],
      "text/plain": [
       "Empty DataFrame\n",
       "Columns: [(Date, ), (Adj Close, AAPL), (Close, AAPL), (High, AAPL), (Low, AAPL), (Open, AAPL), (Volume, AAPL)]\n",
       "Index: []"
      ]
     },
     "execution_count": 5,
     "metadata": {},
     "output_type": "execute_result"
    }
   ],
   "source": [
    "data"
   ]
  },
  {
   "cell_type": "code",
   "execution_count": 10,
   "id": "8a478e83-6aee-4809-9405-be6f8b65b16a",
   "metadata": {
    "tags": []
   },
   "outputs": [
    {
     "data": {
      "text/plain": [
       "0           NaN\n",
       "1           NaN\n",
       "2           NaN\n",
       "3           NaN\n",
       "4           NaN\n",
       "         ...   \n",
       "494    227.6733\n",
       "495    227.1909\n",
       "496    226.6757\n",
       "497    226.1857\n",
       "498    225.6914\n",
       "Name: close, Length: 499, dtype: float64"
      ]
     },
     "execution_count": 10,
     "metadata": {},
     "output_type": "execute_result"
    }
   ],
   "source": [
    "ma_100_days = data.close.rolling(100).mean()\n",
    "ma_100_days"
   ]
  },
  {
   "cell_type": "code",
   "execution_count": 11,
   "id": "fc840124-ef3e-40b0-9e74-aa5a174c4c50",
   "metadata": {
    "tags": []
   },
   "outputs": [
    {
     "ename": "AttributeError",
     "evalue": "'DataFrame' object has no attribute 'Close'",
     "output_type": "error",
     "traceback": [
      "\u001b[1;31m---------------------------------------------------------------------------\u001b[0m",
      "\u001b[1;31mAttributeError\u001b[0m                            Traceback (most recent call last)",
      "\u001b[1;32m~\\AppData\\Local\\Temp\\ipykernel_16852\\4099275733.py\u001b[0m in \u001b[0;36m?\u001b[1;34m()\u001b[0m\n\u001b[0;32m      1\u001b[0m \u001b[0mplt\u001b[0m\u001b[1;33m.\u001b[0m\u001b[0mfigure\u001b[0m\u001b[1;33m(\u001b[0m\u001b[0mfigsize\u001b[0m\u001b[1;33m=\u001b[0m\u001b[1;33m(\u001b[0m\u001b[1;36m12\u001b[0m\u001b[1;33m,\u001b[0m\u001b[1;36m6\u001b[0m\u001b[1;33m)\u001b[0m\u001b[1;33m)\u001b[0m\u001b[1;33m\u001b[0m\u001b[1;33m\u001b[0m\u001b[0m\n\u001b[0;32m      2\u001b[0m \u001b[0mplt\u001b[0m\u001b[1;33m.\u001b[0m\u001b[0mplot\u001b[0m\u001b[1;33m(\u001b[0m\u001b[0mma_100_days\u001b[0m\u001b[1;33m,\u001b[0m \u001b[1;34m'r'\u001b[0m\u001b[1;33m)\u001b[0m\u001b[1;33m\u001b[0m\u001b[1;33m\u001b[0m\u001b[0m\n\u001b[1;32m----> 3\u001b[1;33m \u001b[0mplt\u001b[0m\u001b[1;33m.\u001b[0m\u001b[0mplot\u001b[0m\u001b[1;33m(\u001b[0m\u001b[0mdata\u001b[0m\u001b[1;33m.\u001b[0m\u001b[0mClose\u001b[0m\u001b[1;33m,\u001b[0m \u001b[1;34m'g'\u001b[0m\u001b[1;33m)\u001b[0m\u001b[1;33m\u001b[0m\u001b[1;33m\u001b[0m\u001b[0m\n\u001b[0m\u001b[0;32m      4\u001b[0m \u001b[0mplt\u001b[0m\u001b[1;33m.\u001b[0m\u001b[0mshow\u001b[0m\u001b[1;33m(\u001b[0m\u001b[1;33m)\u001b[0m\u001b[1;33m\u001b[0m\u001b[1;33m\u001b[0m\u001b[0m\n",
      "\u001b[1;32md:\\Project OF BE\\Stock_Model\\.venv\\lib\\site-packages\\pandas\\core\\generic.py\u001b[0m in \u001b[0;36m?\u001b[1;34m(self, name)\u001b[0m\n\u001b[0;32m   6295\u001b[0m             \u001b[1;32mand\u001b[0m \u001b[0mname\u001b[0m \u001b[1;32mnot\u001b[0m \u001b[1;32min\u001b[0m \u001b[0mself\u001b[0m\u001b[1;33m.\u001b[0m\u001b[0m_accessors\u001b[0m\u001b[1;33m\u001b[0m\u001b[1;33m\u001b[0m\u001b[0m\n\u001b[0;32m   6296\u001b[0m             \u001b[1;32mand\u001b[0m \u001b[0mself\u001b[0m\u001b[1;33m.\u001b[0m\u001b[0m_info_axis\u001b[0m\u001b[1;33m.\u001b[0m\u001b[0m_can_hold_identifiers_and_holds_name\u001b[0m\u001b[1;33m(\u001b[0m\u001b[0mname\u001b[0m\u001b[1;33m)\u001b[0m\u001b[1;33m\u001b[0m\u001b[1;33m\u001b[0m\u001b[0m\n\u001b[0;32m   6297\u001b[0m         ):\n\u001b[0;32m   6298\u001b[0m             \u001b[1;32mreturn\u001b[0m \u001b[0mself\u001b[0m\u001b[1;33m[\u001b[0m\u001b[0mname\u001b[0m\u001b[1;33m]\u001b[0m\u001b[1;33m\u001b[0m\u001b[1;33m\u001b[0m\u001b[0m\n\u001b[1;32m-> 6299\u001b[1;33m         \u001b[1;32mreturn\u001b[0m \u001b[0mobject\u001b[0m\u001b[1;33m.\u001b[0m\u001b[0m__getattribute__\u001b[0m\u001b[1;33m(\u001b[0m\u001b[0mself\u001b[0m\u001b[1;33m,\u001b[0m \u001b[0mname\u001b[0m\u001b[1;33m)\u001b[0m\u001b[1;33m\u001b[0m\u001b[1;33m\u001b[0m\u001b[0m\n\u001b[0m",
      "\u001b[1;31mAttributeError\u001b[0m: 'DataFrame' object has no attribute 'Close'"
     ]
    },
    {
     "data": {
      "image/png": "[encoded data removed]",
      "text/plain": [
       "<Figure size 1200x600 with 1 Axes>"
      ]
     },
     "metadata": {},
     "output_type": "display_data"
    }
   ],
   "source": [
    "plt.figure(figsize=(12,6))\n",
    "plt.plot(ma_100_days, 'r')\n",
    "plt.plot(data.Close, 'g')\n",
    "plt.show()"
   ]
  },
  {
   "cell_type": "code",
   "execution_count": 12,
   "id": "1158c05f-1a2c-41f8-8add-85720074cdcd",
   "metadata": {
    "tags": []
   },
   "outputs": [
    {
     "data": {
      "text/plain": [
       "0            NaN\n",
       "1            NaN\n",
       "2            NaN\n",
       "3            NaN\n",
       "4            NaN\n",
       "         ...    \n",
       "494    226.93865\n",
       "495    226.81030\n",
       "496    226.67000\n",
       "497    226.53765\n",
       "498    226.40525\n",
       "Name: close, Length: 499, dtype: float64"
      ]
     },
     "execution_count": 12,
     "metadata": {},
     "output_type": "execute_result"
    }
   ],
   "source": [
    "ma_200_days = data.close.rolling(200).mean()\n",
    "ma_200_days"
   ]
  },
  {
   "cell_type": "code",
   "execution_count": 13,
   "id": "97a1b79b-2302-43d7-883a-a0a255c864bf",
   "metadata": {
    "tags": []
   },
   "outputs": [
    {
     "data": {
      "image/png": "[encoded data removed]",
      "text/plain": [
       "<Figure size 1200x600 with 1 Axes>"
      ]
     },
     "metadata": {},
     "output_type": "display_data"
    }
   ],
   "source": [
    "plt.figure(figsize=(12,6))\n",
    "plt.plot(ma_100_days, 'r')\n",
    "plt.plot(ma_200_days,'b')\n",
    "plt.plot(data.close,'g')\n",
    "plt.show()"
   ]
  },
  {
   "cell_type": "code",
   "execution_count": 15,
   "id": "64246466-177b-46f9-b4eb-6ee5005bfd6b",
   "metadata": {
    "tags": []
   },
   "outputs": [
    {
     "name": "stdout",
     "output_type": "stream",
     "text": [
      "(399, 1) (100, 1)\n"
     ]
    }
   ],
   "source": [
    "data_train = pd.DataFrame(data['close'][0: int(len(data)*0.80)])\n",
    "data_test = pd.DataFrame(data['close'][int(len(data)*0.80): len(data)])\n",
    "\n",
    "print(data_train.shape, data_test.shape)"
   ]
  },
  {
   "cell_type": "code",
   "execution_count": 16,
   "id": "0f4c0b4b-2b5e-4f62-bd84-47a86ed3da3e",
   "metadata": {
    "tags": []
   },
   "outputs": [
    {
     "data": {
      "application/vnd.microsoft.datawrangler.viewer.v0+json": {
       "columns": [
        {
         "name": "index",
         "rawType": "int64",
         "type": "integer"
        },
        {
         "name": "close",
         "rawType": "float64",
         "type": "float"
        }
       ],
       "conversionMethod": "pd.DataFrame",
       "ref": "40f2708c-54c4-4a2f-871e-fbe565bdd2bd",
       "rows": [
        [
         "0",
         "172.07"
        ],
        [
         "1",
         "172.07"
        ],
        [
         "2",
         "172.69"
        ],
        [
         "3",
         "175.05"
        ],
        [
         "4",
         "175.16"
        ]
       ],
       "shape": {
        "columns": 1,
        "rows": 5
       }
      },
      "text/html": [
       "<div>\n",
       "<style scoped>\n",
       "    .dataframe tbody tr th:only-of-type {\n",
       "        vertical-align: middle;\n",
       "    }\n",
       "\n",
       "    .dataframe tbody tr th {\n",
       "        vertical-align: top;\n",
       "    }\n",
       "\n",
       "    .dataframe thead th {\n",
       "        text-align: right;\n",
       "    }\n",
       "</style>\n",
       "<table border=\"1\" class=\"dataframe\">\n",
       "  <thead>\n",
       "    <tr style=\"text-align: right;\">\n",
       "      <th></th>\n",
       "      <th>close</th>\n",
       "    </tr>\n",
       "  </thead>\n",
       "  <tbody>\n",
       "    <tr>\n",
       "      <th>0</th>\n",
       "      <td>172.07</td>\n",
       "    </tr>\n",
       "    <tr>\n",
       "      <th>1</th>\n",
       "      <td>172.07</td>\n",
       "    </tr>\n",
       "    <tr>\n",
       "      <th>2</th>\n",
       "      <td>172.69</td>\n",
       "    </tr>\n",
       "    <tr>\n",
       "      <th>3</th>\n",
       "      <td>175.05</td>\n",
       "    </tr>\n",
       "    <tr>\n",
       "      <th>4</th>\n",
       "      <td>175.16</td>\n",
       "    </tr>\n",
       "  </tbody>\n",
       "</table>\n",
       "</div>"
      ],
      "text/plain": [
       "    close\n",
       "0  172.07\n",
       "1  172.07\n",
       "2  172.69\n",
       "3  175.05\n",
       "4  175.16"
      ]
     },
     "execution_count": 16,
     "metadata": {},
     "output_type": "execute_result"
    }
   ],
   "source": [
    "data_train.head()"
   ]
  },
  {
   "cell_type": "code",
   "execution_count": 17,
   "id": "0a609554-633d-4edf-abc1-21bd874a3cd1",
   "metadata": {
    "tags": []
   },
   "outputs": [
    {
     "data": {
      "application/vnd.microsoft.datawrangler.viewer.v0+json": {
       "columns": [
        {
         "name": "index",
         "rawType": "int64",
         "type": "integer"
        },
        {
         "name": "close",
         "rawType": "float64",
         "type": "float"
        }
       ],
       "conversionMethod": "pd.DataFrame",
       "ref": "3451a8c6-b035-455b-bfce-642f94375ebe",
       "rows": [
        [
         "494",
         "198.89"
        ],
        [
         "495",
         "198.51"
        ],
        [
         "496",
         "196.25"
        ],
        [
         "497",
         "197.49"
        ],
        [
         "498",
         "198.53"
        ]
       ],
       "shape": {
        "columns": 1,
        "rows": 5
       }
      },
      "text/html": [
       "<div>\n",
       "<style scoped>\n",
       "    .dataframe tbody tr th:only-of-type {\n",
       "        vertical-align: middle;\n",
       "    }\n",
       "\n",
       "    .dataframe tbody tr th {\n",
       "        vertical-align: top;\n",
       "    }\n",
       "\n",
       "    .dataframe thead th {\n",
       "        text-align: right;\n",
       "    }\n",
       "</style>\n",
       "<table border=\"1\" class=\"dataframe\">\n",
       "  <thead>\n",
       "    <tr style=\"text-align: right;\">\n",
       "      <th></th>\n",
       "      <th>close</th>\n",
       "    </tr>\n",
       "  </thead>\n",
       "  <tbody>\n",
       "    <tr>\n",
       "      <th>494</th>\n",
       "      <td>198.89</td>\n",
       "    </tr>\n",
       "    <tr>\n",
       "      <th>495</th>\n",
       "      <td>198.51</td>\n",
       "    </tr>\n",
       "    <tr>\n",
       "      <th>496</th>\n",
       "      <td>196.25</td>\n",
       "    </tr>\n",
       "    <tr>\n",
       "      <th>497</th>\n",
       "      <td>197.49</td>\n",
       "    </tr>\n",
       "    <tr>\n",
       "      <th>498</th>\n",
       "      <td>198.53</td>\n",
       "    </tr>\n",
       "  </tbody>\n",
       "</table>\n",
       "</div>"
      ],
      "text/plain": [
       "      close\n",
       "494  198.89\n",
       "495  198.51\n",
       "496  196.25\n",
       "497  197.49\n",
       "498  198.53"
      ]
     },
     "execution_count": 17,
     "metadata": {},
     "output_type": "execute_result"
    }
   ],
   "source": [
    "data_test.tail()"
   ]
  },
  {
   "cell_type": "code",
   "execution_count": 18,
   "id": "d5144e93-eab7-479f-9fde-9bf8c5786dc6",
   "metadata": {
    "tags": []
   },
   "outputs": [],
   "source": [
    "from sklearn.preprocessing import MinMaxScaler\n",
    "scaler = MinMaxScaler(feature_range=(0,1))"
   ]
  },
  {
   "cell_type": "code",
   "execution_count": 19,
   "id": "4c2793bd-1def-45f7-8fd2-9115eed1c2c1",
   "metadata": {
    "tags": []
   },
   "outputs": [
    {
     "data": {
      "text/plain": [
       "array([[0.08522179],\n",
       "       [0.08522179],\n",
       "       [0.09269527],\n",
       "       [0.12114272],\n",
       "       [0.12246866],\n",
       "       [0.11089682],\n",
       "       [0.07907425],\n",
       "       [0.08244937],\n",
       "       [0.09631148],\n",
       "       [0.12572324],\n",
       "       [0.14826422],\n",
       "       [0.14766152],\n",
       "       [0.18189489],\n",
       "       [0.19226133],\n",
       "       [0.17574735],\n",
       "       [0.17128737],\n",
       "       [0.1545323 ],\n",
       "       [0.18768081],\n",
       "       [0.19238187],\n",
       "       [0.2264947 ],\n",
       "       [0.22070878],\n",
       "       [0.22842334],\n",
       "       [0.25325458],\n",
       "       [0.24011572],\n",
       "       [0.24120058],\n",
       "       [0.22854388],\n",
       "       [0.26518804],\n",
       "       [0.26133076],\n",
       "       [0.24433462],\n",
       "       [0.27796528],\n",
       "       [0.29230955],\n",
       "       [0.29640791],\n",
       "       [0.34920444],\n",
       "       [0.33100289],\n",
       "       [0.31738187],\n",
       "       [0.32316779],\n",
       "       [0.30954677],\n",
       "       [0.28459499],\n",
       "       [0.27820636],\n",
       "       [0.29857763],\n",
       "       [0.30785921],\n",
       "       [0.30966731],\n",
       "       [0.34944552],\n",
       "       [0.34631148],\n",
       "       [0.36282546],\n",
       "       [0.33907907],\n",
       "       [0.32473481],\n",
       "       [0.33449855],\n",
       "       [0.34498554],\n",
       "       [0.35559306],\n",
       "       [0.34016393],\n",
       "       [0.37162488],\n",
       "       [0.37909836],\n",
       "       [0.36891273],\n",
       "       [0.33244937],\n",
       "       [0.31545323],\n",
       "       [0.20479749],\n",
       "       [0.16694793],\n",
       "       [0.17839923],\n",
       "       [0.15899229],\n",
       "       [0.15634041],\n",
       "       [0.15417068],\n",
       "       [0.17430087],\n",
       "       [0.15007232],\n",
       "       [0.1394648 ],\n",
       "       [0.10848602],\n",
       "       [0.11439248],\n",
       "       [0.13066538],\n",
       "       [0.14742044],\n",
       "       [0.19431051],\n",
       "       [0.13717454],\n",
       "       [0.16405497],\n",
       "       [0.18310029],\n",
       "       [0.23047252],\n",
       "       [0.27302314],\n",
       "       [0.27567502],\n",
       "       [0.29484089],\n",
       "       [0.29773385],\n",
       "       [0.21588717],\n",
       "       [0.15139826],\n",
       "       [0.15887175],\n",
       "       [0.17309547],\n",
       "       [0.13621022],\n",
       "       [0.11101736],\n",
       "       [0.12945998],\n",
       "       [0.12066056],\n",
       "       [0.15634041],\n",
       "       [0.16959981],\n",
       "       [0.12644648],\n",
       "       [0.10764224],\n",
       "       [0.11800868],\n",
       "       [0.13355834],\n",
       "       [0.08389585],\n",
       "       [0.06545323],\n",
       "       [0.06858727],\n",
       "       [0.07485535],\n",
       "       [0.10547252],\n",
       "       [0.08919961],\n",
       "       [0.10438766],\n",
       "       [0.11945516],\n",
       "       [0.15055448],\n",
       "       [0.16863549],\n",
       "       [0.16140309],\n",
       "       [0.17839923],\n",
       "       [0.18936837],\n",
       "       [0.16694793],\n",
       "       [0.16538091],\n",
       "       [0.14645612],\n",
       "       [0.13066538],\n",
       "       [0.12608486],\n",
       "       [0.09498554],\n",
       "       [0.09643202],\n",
       "       [0.10173578],\n",
       "       [0.07352941],\n",
       "       [0.02278206],\n",
       "       [0.03881389],\n",
       "       [0.06376567],\n",
       "       [0.06955159],\n",
       "       [0.1081244 ],\n",
       "       [0.1515188 ],\n",
       "       [0.14042912],\n",
       "       [0.17152845],\n",
       "       [0.20274831],\n",
       "       [0.21564609],\n",
       "       [0.20986017],\n",
       "       [0.25795564],\n",
       "       [0.23866924],\n",
       "       [0.2704918 ],\n",
       "       [0.27736258],\n",
       "       [0.29785439],\n",
       "       [0.29761331],\n",
       "       [0.31882835],\n",
       "       [0.30906461],\n",
       "       [0.31714079],\n",
       "       [0.30098843],\n",
       "       [0.29881871],\n",
       "       [0.30617165],\n",
       "       [0.29375603],\n",
       "       [0.30074735],\n",
       "       [0.31629701],\n",
       "       [0.29447927],\n",
       "       [0.34257473],\n",
       "       [0.32931533],\n",
       "       [0.35282064],\n",
       "       [0.3701784 ],\n",
       "       [0.33968177],\n",
       "       [0.3581244 ],\n",
       "       [0.3972999 ],\n",
       "       [0.399108  ],\n",
       "       [0.39259884],\n",
       "       [0.37234812],\n",
       "       [0.38500482],\n",
       "       [0.35957088],\n",
       "       [0.35776278],\n",
       "       [0.34474446],\n",
       "       [0.33811475],\n",
       "       [0.33932015],\n",
       "       [0.34450338],\n",
       "       [0.33184667],\n",
       "       [0.2487946 ],\n",
       "       [0.23203954],\n",
       "       [0.20383317],\n",
       "       [0.19503375],\n",
       "       [0.24783028],\n",
       "       [0.2427676 ],\n",
       "       [0.2554243 ],\n",
       "       [0.2481919 ],\n",
       "       [0.25216972],\n",
       "       [0.22456606],\n",
       "       [0.21311475],\n",
       "       [0.28483607],\n",
       "       [0.32015429],\n",
       "       [0.34824012],\n",
       "       [0.36378978],\n",
       "       [0.35559306],\n",
       "       [0.35161524],\n",
       "       [0.33052073],\n",
       "       [0.32220347],\n",
       "       [0.2777242 ],\n",
       "       [0.23384764],\n",
       "       [0.26350048],\n",
       "       [0.25132594],\n",
       "       [0.27338476],\n",
       "       [0.29291225],\n",
       "       [0.29423819],\n",
       "       [0.28109932],\n",
       "       [0.28748795],\n",
       "       [0.26699614],\n",
       "       [0.2415622 ],\n",
       "       [0.23083414],\n",
       "       [0.22733848],\n",
       "       [0.20865477],\n",
       "       [0.19961427],\n",
       "       [0.20877531],\n",
       "       [0.23348602],\n",
       "       [0.21118611],\n",
       "       [0.19479267],\n",
       "       [0.21251205],\n",
       "       [0.19792671],\n",
       "       [0.18985053],\n",
       "       [0.17671167],\n",
       "       [0.12174542],\n",
       "       [0.06171649],\n",
       "       [0.04966249],\n",
       "       [0.04821601],\n",
       "       [0.06906943],\n",
       "       [0.09341851],\n",
       "       [0.09920444],\n",
       "       [0.07389103],\n",
       "       [0.09643202],\n",
       "       [0.09185149],\n",
       "       [0.1051109 ],\n",
       "       [0.13355834],\n",
       "       [0.16477821],\n",
       "       [0.07678399],\n",
       "       [0.08775313],\n",
       "       [0.07051591],\n",
       "       [0.05677435],\n",
       "       [0.10016876],\n",
       "       [0.07810993],\n",
       "       [0.06063163],\n",
       "       [0.04628737],\n",
       "       [0.05605111],\n",
       "       [0.04604629],\n",
       "       [0.05520733],\n",
       "       [0.04158631],\n",
       "       [0.05629219],\n",
       "       [0.03351013],\n",
       "       [0.12102218],\n",
       "       [0.13922372],\n",
       "       [0.09269527],\n",
       "       [0.05279653],\n",
       "       [0.03616201],\n",
       "       [0.02459016],\n",
       "       [0.        ],\n",
       "       [0.01012536],\n",
       "       [0.0229026 ],\n",
       "       [0.04845709],\n",
       "       [0.05894407],\n",
       "       [0.05183221],\n",
       "       [0.10245902],\n",
       "       [0.06424783],\n",
       "       [0.05183221],\n",
       "       [0.09679364],\n",
       "       [0.22155256],\n",
       "       [0.20142237],\n",
       "       [0.20973963],\n",
       "       [0.21383799],\n",
       "       [0.23589682],\n",
       "       [0.21757473],\n",
       "       [0.25650916],\n",
       "       [0.27037126],\n",
       "       [0.29797493],\n",
       "       [0.29942141],\n",
       "       [0.29978303],\n",
       "       [0.31388621],\n",
       "       [0.32967695],\n",
       "       [0.31219865],\n",
       "       [0.26374156],\n",
       "       [0.30110897],\n",
       "       [0.30122951],\n",
       "       [0.30484571],\n",
       "       [0.31689971],\n",
       "       [0.32847155],\n",
       "       [0.34992768],\n",
       "       [0.35378496],\n",
       "       [0.37210704],\n",
       "       [0.35535198],\n",
       "       [0.38440212],\n",
       "       [0.33895853],\n",
       "       [0.50807618],\n",
       "       [0.57943587],\n",
       "       [0.59353905],\n",
       "       [0.57244455],\n",
       "       [0.62283028],\n",
       "       [0.59414176],\n",
       "       [0.53857281],\n",
       "       [0.51217454],\n",
       "       [0.52000964],\n",
       "       [0.53121986],\n",
       "       [0.58160559],\n",
       "       [0.59185149],\n",
       "       [0.54990357],\n",
       "       [0.6237946 ],\n",
       "       [0.66622469],\n",
       "       [0.68165381],\n",
       "       [0.73939248],\n",
       "       [0.7572324 ],\n",
       "       [0.76759884],\n",
       "       [0.81943105],\n",
       "       [0.7542189 ],\n",
       "       [0.79001929],\n",
       "       [0.83654773],\n",
       "       [0.84161041],\n",
       "       [0.77000964],\n",
       "       [0.71335583],\n",
       "       [0.71492285],\n",
       "       [0.71070395],\n",
       "       [0.72336066],\n",
       "       [0.64537126],\n",
       "       [0.63271456],\n",
       "       [0.63837994],\n",
       "       [0.64175506],\n",
       "       [0.6485053 ],\n",
       "       [0.68804243],\n",
       "       [0.64320154],\n",
       "       [0.66128255],\n",
       "       [0.53363067],\n",
       "       [0.5090405 ],\n",
       "       [0.54026037],\n",
       "       [0.58232883],\n",
       "       [0.61764706],\n",
       "       [0.63319672],\n",
       "       [0.67827869],\n",
       "       [0.68370299],\n",
       "       [0.719865  ],\n",
       "       [0.73589682],\n",
       "       [0.73396818],\n",
       "       [0.74144166],\n",
       "       [0.74011572],\n",
       "       [0.71757473],\n",
       "       [0.74541948],\n",
       "       [0.74951784],\n",
       "       [0.75976374],\n",
       "       [0.74120058],\n",
       "       [0.78097878],\n",
       "       [0.77145612],\n",
       "       [0.69635969],\n",
       "       [0.67321601],\n",
       "       [0.69165863],\n",
       "       [0.67285439],\n",
       "       [0.67393925],\n",
       "       [0.66429605],\n",
       "       [0.69503375],\n",
       "       [0.69635969],\n",
       "       [0.69310511],\n",
       "       [0.61861138],\n",
       "       [0.62427676],\n",
       "       [0.67128737],\n",
       "       [0.7698891 ],\n",
       "       [0.76181292],\n",
       "       [0.7409595 ],\n",
       "       [0.7518081 ],\n",
       "       [0.7397541 ],\n",
       "       [0.7536162 ],\n",
       "       [0.75687078],\n",
       "       [0.81967213],\n",
       "       [0.73782546],\n",
       "       [0.74469624],\n",
       "       [0.7313163 ],\n",
       "       [0.74493732],\n",
       "       [0.68334137],\n",
       "       [0.7325217 ],\n",
       "       [0.77796528],\n",
       "       [0.77193828],\n",
       "       [0.75397782],\n",
       "       [0.79918033],\n",
       "       [0.82991803],\n",
       "       [0.80496625],\n",
       "       [0.80942623],\n",
       "       [0.84378014],\n",
       "       [0.86162006],\n",
       "       [0.85414658],\n",
       "       [0.79267117],\n",
       "       [0.79038091],\n",
       "       [0.80050627],\n",
       "       [0.82449373],\n",
       "       [0.82774831],\n",
       "       [0.78471553],\n",
       "       [0.73420926],\n",
       "       [0.69804725],\n",
       "       [0.68719865],\n",
       "       [0.70455641],\n",
       "       [0.69575699],\n",
       "       [0.75313404],\n",
       "       [0.74686596],\n",
       "       [0.71395853],\n",
       "       [0.71395853],\n",
       "       [0.7246866 ],\n",
       "       [0.762054  ],\n",
       "       [0.72324012],\n",
       "       [0.7596432 ],\n",
       "       [0.76277724],\n",
       "       [0.77145612],\n",
       "       [0.7656702 ],\n",
       "       [0.78194311],\n",
       "       [0.81810511],\n",
       "       [0.84450338],\n",
       "       [0.84293635],\n",
       "       [0.87186596],\n",
       "       [0.899108  ],\n",
       "       [0.93599325],\n",
       "       [0.94033269],\n",
       "       [0.94069431],\n",
       "       [0.93828351],\n",
       "       [0.98541466],\n",
       "       [0.99770974],\n",
       "       [0.98228062],\n",
       "       [1.        ]])"
      ]
     },
     "execution_count": 19,
     "metadata": {},
     "output_type": "execute_result"
    }
   ],
   "source": [
    "data_train_scale = scaler.fit_transform(data_train)\n",
    "data_train_scale"
   ]
  },
  {
   "cell_type": "code",
   "execution_count": 20,
   "id": "154b4340-e1d9-45c5-ab48-6e60915171cb",
   "metadata": {},
   "outputs": [
    {
     "data": {
      "text/plain": [
       "(399, 1)"
      ]
     },
     "execution_count": 20,
     "metadata": {},
     "output_type": "execute_result"
    }
   ],
   "source": [
    "data_train_scale.shape"
   ]
  },
  {
   "cell_type": "code",
   "execution_count": 21,
   "id": "d55d63c2-132a-40b5-9398-e576ceba14fd",
   "metadata": {
    "tags": []
   },
   "outputs": [],
   "source": [
    "x = []\n",
    "y = []\n",
    "\n",
    "for i in range(100, data_train_scale.shape[0]):\n",
    "    x.append(data_train_scale[i-100:i])\n",
    "    y.append(data_train_scale[i,0])\n"
   ]
  },
  {
   "cell_type": "code",
   "execution_count": 22,
   "id": "998369e6-f1ad-4cf5-af58-0aa5b7aa315c",
   "metadata": {
    "tags": []
   },
   "outputs": [],
   "source": [
    "x, y = np.array(x), np.array(y)"
   ]
  },
  {
   "cell_type": "markdown",
   "id": "5b0f31ca",
   "metadata": {},
   "source": []
  },
  {
   "cell_type": "code",
   "execution_count": 23,
   "id": "3c9c6717-e792-4206-960f-0689203555ca",
   "metadata": {
    "tags": []
   },
   "outputs": [],
   "source": [
    "from keras.layers import Dense, Dropout, LSTM\n",
    "from keras.models import Sequential"
   ]
  },
  {
   "cell_type": "code",
   "execution_count": 24,
   "id": "14867cd4-c1ed-4cf9-b339-245bfaec0852",
   "metadata": {
    "tags": []
   },
   "outputs": [
    {
     "name": "stderr",
     "output_type": "stream",
     "text": [
      "d:\\Project OF BE\\Stock_Model\\.venv\\lib\\site-packages\\keras\\src\\layers\\rnn\\rnn.py:200: UserWarning: Do not pass an `input_shape`/`input_dim` argument to a layer. When using Sequential models, prefer using an `Input(shape)` object as the first layer in the model instead.\n",
      "  super().__init__(**kwargs)\n"
     ]
    }
   ],
   "source": [
    "model = Sequential()\n",
    "model.add(LSTM(units = 50, activation = 'relu', return_sequences = True, input_shape = (x.shape[1], 1)))\n",
    "model.add(Dropout(0.2))\n",
    "\n",
    "model.add(LSTM(units = 60, activation='relu', return_sequences = True))\n",
    "model.add(Dropout(0.3))\n",
    "\n",
    "model.add(LSTM(units = 80, activation = 'relu', return_sequences = True))\n",
    "model.add(Dropout(0.4))\n",
    "\n",
    "model.add(LSTM(units = 120, activation = 'relu'))\n",
    "model.add(Dropout(0.5))\n",
    "\n",
    "model.add(Dense(units =1))"
   ]
  },
  {
   "cell_type": "markdown",
   "id": "ca00338a",
   "metadata": {},
   "source": [
    "model.summary()"
   ]
  },
  {
   "cell_type": "code",
   "execution_count": 25,
   "id": "c09dcba9",
   "metadata": {},
   "outputs": [
    {
     "data": {
      "text/html": [
       "<pre style=\"white-space:pre;overflow-x:auto;line-height:normal;font-family:Menlo,'DejaVu Sans Mono',consolas,'Courier New',monospace\"><span style=\"font-weight: bold\">Model: \"sequential\"</span>\n",
       "</pre>\n"
      ],
      "text/plain": [
       "\u001b[1mModel: \"sequential\"\u001b[0m\n"
      ]
     },
     "metadata": {},
     "output_type": "display_data"
    },
    {
     "data": {
      "text/html": [
       "<pre style=\"white-space:pre;overflow-x:auto;line-height:normal;font-family:Menlo,'DejaVu Sans Mono',consolas,'Courier New',monospace\">┏━━━━━━━━━━━━━━━━━━━━━━━━━━━━━━━━━┳━━━━━━━━━━━━━━━━━━━━━━━━┳━━━━━━━━━━━━━━━┓\n",
       "┃<span style=\"font-weight: bold\"> Layer (type)                    </span>┃<span style=\"font-weight: bold\"> Output Shape           </span>┃<span style=\"font-weight: bold\">       Param # </span>┃\n",
       "┡━━━━━━━━━━━━━━━━━━━━━━━━━━━━━━━━━╇━━━━━━━━━━━━━━━━━━━━━━━━╇━━━━━━━━━━━━━━━┩\n",
       "│ lstm (<span style=\"color: #0087ff; text-decoration-color: #0087ff\">LSTM</span>)                     │ (<span style=\"color: #00d7ff; text-decoration-color: #00d7ff\">None</span>, <span style=\"color: #00af00; text-decoration-color: #00af00\">100</span>, <span style=\"color: #00af00; text-decoration-color: #00af00\">50</span>)        │        <span style=\"color: #00af00; text-decoration-color: #00af00\">10,400</span> │\n",
       "├─────────────────────────────────┼────────────────────────┼───────────────┤\n",
       "│ dropout (<span style=\"color: #0087ff; text-decoration-color: #0087ff\">Dropout</span>)               │ (<span style=\"color: #00d7ff; text-decoration-color: #00d7ff\">None</span>, <span style=\"color: #00af00; text-decoration-color: #00af00\">100</span>, <span style=\"color: #00af00; text-decoration-color: #00af00\">50</span>)        │             <span style=\"color: #00af00; text-decoration-color: #00af00\">0</span> │\n",
       "├─────────────────────────────────┼────────────────────────┼───────────────┤\n",
       "│ lstm_1 (<span style=\"color: #0087ff; text-decoration-color: #0087ff\">LSTM</span>)                   │ (<span style=\"color: #00d7ff; text-decoration-color: #00d7ff\">None</span>, <span style=\"color: #00af00; text-decoration-color: #00af00\">100</span>, <span style=\"color: #00af00; text-decoration-color: #00af00\">60</span>)        │        <span style=\"color: #00af00; text-decoration-color: #00af00\">26,640</span> │\n",
       "├─────────────────────────────────┼────────────────────────┼───────────────┤\n",
       "│ dropout_1 (<span style=\"color: #0087ff; text-decoration-color: #0087ff\">Dropout</span>)             │ (<span style=\"color: #00d7ff; text-decoration-color: #00d7ff\">None</span>, <span style=\"color: #00af00; text-decoration-color: #00af00\">100</span>, <span style=\"color: #00af00; text-decoration-color: #00af00\">60</span>)        │             <span style=\"color: #00af00; text-decoration-color: #00af00\">0</span> │\n",
       "├─────────────────────────────────┼────────────────────────┼───────────────┤\n",
       "│ lstm_2 (<span style=\"color: #0087ff; text-decoration-color: #0087ff\">LSTM</span>)                   │ (<span style=\"color: #00d7ff; text-decoration-color: #00d7ff\">None</span>, <span style=\"color: #00af00; text-decoration-color: #00af00\">100</span>, <span style=\"color: #00af00; text-decoration-color: #00af00\">80</span>)        │        <span style=\"color: #00af00; text-decoration-color: #00af00\">45,120</span> │\n",
       "├─────────────────────────────────┼────────────────────────┼───────────────┤\n",
       "│ dropout_2 (<span style=\"color: #0087ff; text-decoration-color: #0087ff\">Dropout</span>)             │ (<span style=\"color: #00d7ff; text-decoration-color: #00d7ff\">None</span>, <span style=\"color: #00af00; text-decoration-color: #00af00\">100</span>, <span style=\"color: #00af00; text-decoration-color: #00af00\">80</span>)        │             <span style=\"color: #00af00; text-decoration-color: #00af00\">0</span> │\n",
       "├─────────────────────────────────┼────────────────────────┼───────────────┤\n",
       "│ lstm_3 (<span style=\"color: #0087ff; text-decoration-color: #0087ff\">LSTM</span>)                   │ (<span style=\"color: #00d7ff; text-decoration-color: #00d7ff\">None</span>, <span style=\"color: #00af00; text-decoration-color: #00af00\">120</span>)            │        <span style=\"color: #00af00; text-decoration-color: #00af00\">96,480</span> │\n",
       "├─────────────────────────────────┼────────────────────────┼───────────────┤\n",
       "│ dropout_3 (<span style=\"color: #0087ff; text-decoration-color: #0087ff\">Dropout</span>)             │ (<span style=\"color: #00d7ff; text-decoration-color: #00d7ff\">None</span>, <span style=\"color: #00af00; text-decoration-color: #00af00\">120</span>)            │             <span style=\"color: #00af00; text-decoration-color: #00af00\">0</span> │\n",
       "├─────────────────────────────────┼────────────────────────┼───────────────┤\n",
       "│ dense (<span style=\"color: #0087ff; text-decoration-color: #0087ff\">Dense</span>)                   │ (<span style=\"color: #00d7ff; text-decoration-color: #00d7ff\">None</span>, <span style=\"color: #00af00; text-decoration-color: #00af00\">1</span>)              │           <span style=\"color: #00af00; text-decoration-color: #00af00\">121</span> │\n",
       "└─────────────────────────────────┴────────────────────────┴───────────────┘\n",
       "</pre>\n"
      ],
      "text/plain": [
       "┏━━━━━━━━━━━━━━━━━━━━━━━━━━━━━━━━━┳━━━━━━━━━━━━━━━━━━━━━━━━┳━━━━━━━━━━━━━━━┓\n",
       "┃\u001b[1m \u001b[0m\u001b[1mLayer (type)                   \u001b[0m\u001b[1m \u001b[0m┃\u001b[1m \u001b[0m\u001b[1mOutput Shape          \u001b[0m\u001b[1m \u001b[0m┃\u001b[1m \u001b[0m\u001b[1m      Param #\u001b[0m\u001b[1m \u001b[0m┃\n",
       "┡━━━━━━━━━━━━━━━━━━━━━━━━━━━━━━━━━╇━━━━━━━━━━━━━━━━━━━━━━━━╇━━━━━━━━━━━━━━━┩\n",
       "│ lstm (\u001b[38;5;33mLSTM\u001b[0m)                     │ (\u001b[38;5;45mNone\u001b[0m, \u001b[38;5;34m100\u001b[0m, \u001b[38;5;34m50\u001b[0m)        │        \u001b[38;5;34m10,400\u001b[0m │\n",
       "├─────────────────────────────────┼────────────────────────┼───────────────┤\n",
       "│ dropout (\u001b[38;5;33mDropout\u001b[0m)               │ (\u001b[38;5;45mNone\u001b[0m, \u001b[38;5;34m100\u001b[0m, \u001b[38;5;34m50\u001b[0m)        │             \u001b[38;5;34m0\u001b[0m │\n",
       "├─────────────────────────────────┼────────────────────────┼───────────────┤\n",
       "│ lstm_1 (\u001b[38;5;33mLSTM\u001b[0m)                   │ (\u001b[38;5;45mNone\u001b[0m, \u001b[38;5;34m100\u001b[0m, \u001b[38;5;34m60\u001b[0m)        │        \u001b[38;5;34m26,640\u001b[0m │\n",
       "├─────────────────────────────────┼────────────────────────┼───────────────┤\n",
       "│ dropout_1 (\u001b[38;5;33mDropout\u001b[0m)             │ (\u001b[38;5;45mNone\u001b[0m, \u001b[38;5;34m100\u001b[0m, \u001b[38;5;34m60\u001b[0m)        │             \u001b[38;5;34m0\u001b[0m │\n",
       "├─────────────────────────────────┼────────────────────────┼───────────────┤\n",
       "│ lstm_2 (\u001b[38;5;33mLSTM\u001b[0m)                   │ (\u001b[38;5;45mNone\u001b[0m, \u001b[38;5;34m100\u001b[0m, \u001b[38;5;34m80\u001b[0m)        │        \u001b[38;5;34m45,120\u001b[0m │\n",
       "├─────────────────────────────────┼────────────────────────┼───────────────┤\n",
       "│ dropout_2 (\u001b[38;5;33mDropout\u001b[0m)             │ (\u001b[38;5;45mNone\u001b[0m, \u001b[38;5;34m100\u001b[0m, \u001b[38;5;34m80\u001b[0m)        │             \u001b[38;5;34m0\u001b[0m │\n",
       "├─────────────────────────────────┼────────────────────────┼───────────────┤\n",
       "│ lstm_3 (\u001b[38;5;33mLSTM\u001b[0m)                   │ (\u001b[38;5;45mNone\u001b[0m, \u001b[38;5;34m120\u001b[0m)            │        \u001b[38;5;34m96,480\u001b[0m │\n",
       "├─────────────────────────────────┼────────────────────────┼───────────────┤\n",
       "│ dropout_3 (\u001b[38;5;33mDropout\u001b[0m)             │ (\u001b[38;5;45mNone\u001b[0m, \u001b[38;5;34m120\u001b[0m)            │             \u001b[38;5;34m0\u001b[0m │\n",
       "├─────────────────────────────────┼────────────────────────┼───────────────┤\n",
       "│ dense (\u001b[38;5;33mDense\u001b[0m)                   │ (\u001b[38;5;45mNone\u001b[0m, \u001b[38;5;34m1\u001b[0m)              │           \u001b[38;5;34m121\u001b[0m │\n",
       "└─────────────────────────────────┴────────────────────────┴───────────────┘\n"
      ]
     },
     "metadata": {},
     "output_type": "display_data"
    },
    {
     "data": {
      "text/html": [
       "<pre style=\"white-space:pre;overflow-x:auto;line-height:normal;font-family:Menlo,'DejaVu Sans Mono',consolas,'Courier New',monospace\"><span style=\"font-weight: bold\"> Total params: </span><span style=\"color: #00af00; text-decoration-color: #00af00\">178,761</span> (698.29 KB)\n",
       "</pre>\n"
      ],
      "text/plain": [
       "\u001b[1m Total params: \u001b[0m\u001b[38;5;34m178,761\u001b[0m (698.29 KB)\n"
      ]
     },
     "metadata": {},
     "output_type": "display_data"
    },
    {
     "data": {
      "text/html": [
       "<pre style=\"white-space:pre;overflow-x:auto;line-height:normal;font-family:Menlo,'DejaVu Sans Mono',consolas,'Courier New',monospace\"><span style=\"font-weight: bold\"> Trainable params: </span><span style=\"color: #00af00; text-decoration-color: #00af00\">178,761</span> (698.29 KB)\n",
       "</pre>\n"
      ],
      "text/plain": [
       "\u001b[1m Trainable params: \u001b[0m\u001b[38;5;34m178,761\u001b[0m (698.29 KB)\n"
      ]
     },
     "metadata": {},
     "output_type": "display_data"
    },
    {
     "data": {
      "text/html": [
       "<pre style=\"white-space:pre;overflow-x:auto;line-height:normal;font-family:Menlo,'DejaVu Sans Mono',consolas,'Courier New',monospace\"><span style=\"font-weight: bold\"> Non-trainable params: </span><span style=\"color: #00af00; text-decoration-color: #00af00\">0</span> (0.00 B)\n",
       "</pre>\n"
      ],
      "text/plain": [
       "\u001b[1m Non-trainable params: \u001b[0m\u001b[38;5;34m0\u001b[0m (0.00 B)\n"
      ]
     },
     "metadata": {},
     "output_type": "display_data"
    }
   ],
   "source": [
    "model.summary()"
   ]
  },
  {
   "cell_type": "code",
   "execution_count": 26,
   "id": "c69edcc2-b11d-4702-8a6c-f6a6e677e79a",
   "metadata": {
    "tags": []
   },
   "outputs": [],
   "source": [
    "model.compile(optimizer = 'adam', loss = 'mean_squared_error')"
   ]
  },
  {
   "cell_type": "code",
   "execution_count": 27,
   "id": "f36e439a-0106-4108-9630-7cdd7e5428e4",
   "metadata": {
    "tags": []
   },
   "outputs": [
    {
     "name": "stdout",
     "output_type": "stream",
     "text": [
      "Epoch 1/50\n",
      "\u001b[1m10/10\u001b[0m \u001b[32m━━━━━━━━━━━━━━━━━━━━\u001b[0m\u001b[37m\u001b[0m \u001b[1m9s\u001b[0m 196ms/step - loss: 0.2233\n",
      "Epoch 2/50\n",
      "\u001b[1m10/10\u001b[0m \u001b[32m━━━━━━━━━━━━━━━━━━━━\u001b[0m\u001b[37m\u001b[0m \u001b[1m2s\u001b[0m 194ms/step - loss: 0.0433\n",
      "Epoch 3/50\n",
      "\u001b[1m10/10\u001b[0m \u001b[32m━━━━━━━━━━━━━━━━━━━━\u001b[0m\u001b[37m\u001b[0m \u001b[1m2s\u001b[0m 160ms/step - loss: 0.0349\n",
      "Epoch 4/50\n",
      "\u001b[1m10/10\u001b[0m \u001b[32m━━━━━━━━━━━━━━━━━━━━\u001b[0m\u001b[37m\u001b[0m \u001b[1m2s\u001b[0m 182ms/step - loss: 0.0299\n",
      "Epoch 5/50\n",
      "\u001b[1m10/10\u001b[0m \u001b[32m━━━━━━━━━━━━━━━━━━━━\u001b[0m\u001b[37m\u001b[0m \u001b[1m2s\u001b[0m 167ms/step - loss: 0.0261\n",
      "Epoch 6/50\n",
      "\u001b[1m10/10\u001b[0m \u001b[32m━━━━━━━━━━━━━━━━━━━━\u001b[0m\u001b[37m\u001b[0m \u001b[1m2s\u001b[0m 185ms/step - loss: 0.0225\n",
      "Epoch 7/50\n",
      "\u001b[1m10/10\u001b[0m \u001b[32m━━━━━━━━━━━━━━━━━━━━\u001b[0m\u001b[37m\u001b[0m \u001b[1m2s\u001b[0m 172ms/step - loss: 0.0203\n",
      "Epoch 8/50\n",
      "\u001b[1m10/10\u001b[0m \u001b[32m━━━━━━━━━━━━━━━━━━━━\u001b[0m\u001b[37m\u001b[0m \u001b[1m2s\u001b[0m 198ms/step - loss: 0.0200\n",
      "Epoch 9/50\n",
      "\u001b[1m10/10\u001b[0m \u001b[32m━━━━━━━━━━━━━━━━━━━━\u001b[0m\u001b[37m\u001b[0m \u001b[1m2s\u001b[0m 167ms/step - loss: 0.0212\n",
      "Epoch 10/50\n",
      "\u001b[1m10/10\u001b[0m \u001b[32m━━━━━━━━━━━━━━━━━━━━\u001b[0m\u001b[37m\u001b[0m \u001b[1m3s\u001b[0m 286ms/step - loss: 0.0205\n",
      "Epoch 11/50\n",
      "\u001b[1m10/10\u001b[0m \u001b[32m━━━━━━━━━━━━━━━━━━━━\u001b[0m\u001b[37m\u001b[0m \u001b[1m3s\u001b[0m 313ms/step - loss: 0.0153\n",
      "Epoch 12/50\n",
      "\u001b[1m10/10\u001b[0m \u001b[32m━━━━━━━━━━━━━━━━━━━━\u001b[0m\u001b[37m\u001b[0m \u001b[1m5s\u001b[0m 483ms/step - loss: 0.0153\n",
      "Epoch 13/50\n",
      "\u001b[1m10/10\u001b[0m \u001b[32m━━━━━━━━━━━━━━━━━━━━\u001b[0m\u001b[37m\u001b[0m \u001b[1m3s\u001b[0m 180ms/step - loss: 0.0177\n",
      "Epoch 14/50\n",
      "\u001b[1m10/10\u001b[0m \u001b[32m━━━━━━━━━━━━━━━━━━━━\u001b[0m\u001b[37m\u001b[0m \u001b[1m2s\u001b[0m 157ms/step - loss: 0.0210\n",
      "Epoch 15/50\n",
      "\u001b[1m10/10\u001b[0m \u001b[32m━━━━━━━━━━━━━━━━━━━━\u001b[0m\u001b[37m\u001b[0m \u001b[1m1s\u001b[0m 143ms/step - loss: 0.0171\n",
      "Epoch 16/50\n",
      "\u001b[1m10/10\u001b[0m \u001b[32m━━━━━━━━━━━━━━━━━━━━\u001b[0m\u001b[37m\u001b[0m \u001b[1m2s\u001b[0m 158ms/step - loss: 0.0184\n",
      "Epoch 17/50\n",
      "\u001b[1m10/10\u001b[0m \u001b[32m━━━━━━━━━━━━━━━━━━━━\u001b[0m\u001b[37m\u001b[0m \u001b[1m2s\u001b[0m 157ms/step - loss: 0.0124\n",
      "Epoch 18/50\n",
      "\u001b[1m10/10\u001b[0m \u001b[32m━━━━━━━━━━━━━━━━━━━━\u001b[0m\u001b[37m\u001b[0m \u001b[1m2s\u001b[0m 162ms/step - loss: 0.0146\n",
      "Epoch 19/50\n",
      "\u001b[1m10/10\u001b[0m \u001b[32m━━━━━━━━━━━━━━━━━━━━\u001b[0m\u001b[37m\u001b[0m \u001b[1m2s\u001b[0m 156ms/step - loss: 0.0142\n",
      "Epoch 20/50\n",
      "\u001b[1m10/10\u001b[0m \u001b[32m━━━━━━━━━━━━━━━━━━━━\u001b[0m\u001b[37m\u001b[0m \u001b[1m2s\u001b[0m 172ms/step - loss: 0.0130\n",
      "Epoch 21/50\n",
      "\u001b[1m10/10\u001b[0m \u001b[32m━━━━━━━━━━━━━━━━━━━━\u001b[0m\u001b[37m\u001b[0m \u001b[1m2s\u001b[0m 178ms/step - loss: 0.0112\n",
      "Epoch 22/50\n",
      "\u001b[1m10/10\u001b[0m \u001b[32m━━━━━━━━━━━━━━━━━━━━\u001b[0m\u001b[37m\u001b[0m \u001b[1m2s\u001b[0m 205ms/step - loss: 0.0119\n",
      "Epoch 23/50\n",
      "\u001b[1m10/10\u001b[0m \u001b[32m━━━━━━━━━━━━━━━━━━━━\u001b[0m\u001b[37m\u001b[0m \u001b[1m2s\u001b[0m 171ms/step - loss: 0.0127\n",
      "Epoch 24/50\n",
      "\u001b[1m10/10\u001b[0m \u001b[32m━━━━━━━━━━━━━━━━━━━━\u001b[0m\u001b[37m\u001b[0m \u001b[1m3s\u001b[0m 292ms/step - loss: 0.0156\n",
      "Epoch 25/50\n",
      "\u001b[1m10/10\u001b[0m \u001b[32m━━━━━━━━━━━━━━━━━━━━\u001b[0m\u001b[37m\u001b[0m \u001b[1m3s\u001b[0m 306ms/step - loss: 0.0114\n",
      "Epoch 26/50\n",
      "\u001b[1m10/10\u001b[0m \u001b[32m━━━━━━━━━━━━━━━━━━━━\u001b[0m\u001b[37m\u001b[0m \u001b[1m3s\u001b[0m 293ms/step - loss: 0.0117\n",
      "Epoch 27/50\n",
      "\u001b[1m10/10\u001b[0m \u001b[32m━━━━━━━━━━━━━━━━━━━━\u001b[0m\u001b[37m\u001b[0m \u001b[1m2s\u001b[0m 185ms/step - loss: 0.0139\n",
      "Epoch 28/50\n",
      "\u001b[1m10/10\u001b[0m \u001b[32m━━━━━━━━━━━━━━━━━━━━\u001b[0m\u001b[37m\u001b[0m \u001b[1m2s\u001b[0m 166ms/step - loss: 0.0125\n",
      "Epoch 29/50\n",
      "\u001b[1m10/10\u001b[0m \u001b[32m━━━━━━━━━━━━━━━━━━━━\u001b[0m\u001b[37m\u001b[0m \u001b[1m2s\u001b[0m 169ms/step - loss: 0.0125\n",
      "Epoch 30/50\n",
      "\u001b[1m10/10\u001b[0m \u001b[32m━━━━━━━━━━━━━━━━━━━━\u001b[0m\u001b[37m\u001b[0m \u001b[1m2s\u001b[0m 182ms/step - loss: 0.0122\n",
      "Epoch 31/50\n",
      "\u001b[1m10/10\u001b[0m \u001b[32m━━━━━━━━━━━━━━━━━━━━\u001b[0m\u001b[37m\u001b[0m \u001b[1m2s\u001b[0m 194ms/step - loss: 0.0132\n",
      "Epoch 32/50\n",
      "\u001b[1m10/10\u001b[0m \u001b[32m━━━━━━━━━━━━━━━━━━━━\u001b[0m\u001b[37m\u001b[0m \u001b[1m2s\u001b[0m 183ms/step - loss: 0.0121\n",
      "Epoch 33/50\n",
      "\u001b[1m10/10\u001b[0m \u001b[32m━━━━━━━━━━━━━━━━━━━━\u001b[0m\u001b[37m\u001b[0m \u001b[1m2s\u001b[0m 170ms/step - loss: 0.0137\n",
      "Epoch 34/50\n",
      "\u001b[1m10/10\u001b[0m \u001b[32m━━━━━━━━━━━━━━━━━━━━\u001b[0m\u001b[37m\u001b[0m \u001b[1m2s\u001b[0m 220ms/step - loss: 0.0120\n",
      "Epoch 35/50\n",
      "\u001b[1m10/10\u001b[0m \u001b[32m━━━━━━━━━━━━━━━━━━━━\u001b[0m\u001b[37m\u001b[0m \u001b[1m3s\u001b[0m 315ms/step - loss: 0.0117\n",
      "Epoch 36/50\n",
      "\u001b[1m10/10\u001b[0m \u001b[32m━━━━━━━━━━━━━━━━━━━━\u001b[0m\u001b[37m\u001b[0m \u001b[1m3s\u001b[0m 313ms/step - loss: 0.0104\n",
      "Epoch 37/50\n",
      "\u001b[1m10/10\u001b[0m \u001b[32m━━━━━━━━━━━━━━━━━━━━\u001b[0m\u001b[37m\u001b[0m \u001b[1m5s\u001b[0m 330ms/step - loss: 0.0133\n",
      "Epoch 38/50\n",
      "\u001b[1m10/10\u001b[0m \u001b[32m━━━━━━━━━━━━━━━━━━━━\u001b[0m\u001b[37m\u001b[0m \u001b[1m5s\u001b[0m 295ms/step - loss: 0.0114\n",
      "Epoch 39/50\n",
      "\u001b[1m10/10\u001b[0m \u001b[32m━━━━━━━━━━━━━━━━━━━━\u001b[0m\u001b[37m\u001b[0m \u001b[1m3s\u001b[0m 317ms/step - loss: 0.0120\n",
      "Epoch 40/50\n",
      "\u001b[1m10/10\u001b[0m \u001b[32m━━━━━━━━━━━━━━━━━━━━\u001b[0m\u001b[37m\u001b[0m \u001b[1m3s\u001b[0m 311ms/step - loss: 0.0121\n",
      "Epoch 41/50\n",
      "\u001b[1m10/10\u001b[0m \u001b[32m━━━━━━━━━━━━━━━━━━━━\u001b[0m\u001b[37m\u001b[0m \u001b[1m3s\u001b[0m 303ms/step - loss: 0.0098\n",
      "Epoch 42/50\n",
      "\u001b[1m10/10\u001b[0m \u001b[32m━━━━━━━━━━━━━━━━━━━━\u001b[0m\u001b[37m\u001b[0m \u001b[1m5s\u001b[0m 318ms/step - loss: 0.0116\n",
      "Epoch 43/50\n",
      "\u001b[1m10/10\u001b[0m \u001b[32m━━━━━━━━━━━━━━━━━━━━\u001b[0m\u001b[37m\u001b[0m \u001b[1m3s\u001b[0m 237ms/step - loss: 0.0128\n",
      "Epoch 44/50\n",
      "\u001b[1m10/10\u001b[0m \u001b[32m━━━━━━━━━━━━━━━━━━━━\u001b[0m\u001b[37m\u001b[0m \u001b[1m2s\u001b[0m 177ms/step - loss: 0.0127\n",
      "Epoch 45/50\n",
      "\u001b[1m10/10\u001b[0m \u001b[32m━━━━━━━━━━━━━━━━━━━━\u001b[0m\u001b[37m\u001b[0m \u001b[1m2s\u001b[0m 196ms/step - loss: 0.0123\n",
      "Epoch 46/50\n",
      "\u001b[1m10/10\u001b[0m \u001b[32m━━━━━━━━━━━━━━━━━━━━\u001b[0m\u001b[37m\u001b[0m \u001b[1m2s\u001b[0m 153ms/step - loss: 0.0110\n",
      "Epoch 47/50\n",
      "\u001b[1m10/10\u001b[0m \u001b[32m━━━━━━━━━━━━━━━━━━━━\u001b[0m\u001b[37m\u001b[0m \u001b[1m2s\u001b[0m 180ms/step - loss: 0.0112\n",
      "Epoch 48/50\n",
      "\u001b[1m10/10\u001b[0m \u001b[32m━━━━━━━━━━━━━━━━━━━━\u001b[0m\u001b[37m\u001b[0m \u001b[1m2s\u001b[0m 179ms/step - loss: 0.0091\n",
      "Epoch 49/50\n",
      "\u001b[1m10/10\u001b[0m \u001b[32m━━━━━━━━━━━━━━━━━━━━\u001b[0m\u001b[37m\u001b[0m \u001b[1m2s\u001b[0m 188ms/step - loss: 0.0093\n",
      "Epoch 50/50\n",
      "\u001b[1m10/10\u001b[0m \u001b[32m━━━━━━━━━━━━━━━━━━━━\u001b[0m\u001b[37m\u001b[0m \u001b[1m2s\u001b[0m 196ms/step - loss: 0.0107\n"
     ]
    },
    {
     "data": {
      "text/plain": [
       "<keras.src.callbacks.history.History at 0x1f4b7c21b70>"
      ]
     },
     "execution_count": 27,
     "metadata": {},
     "output_type": "execute_result"
    }
   ],
   "source": [
    "model.fit(x,y, epochs = 50, batch_size = 32, verbose = 1)"
   ]
  },
  {
   "cell_type": "code",
   "execution_count": 28,
   "id": "62f9decd-83a6-4c03-8963-dc3298b2a104",
   "metadata": {
    "tags": []
   },
   "outputs": [
    {
     "name": "stderr",
     "output_type": "stream",
     "text": [
      "WARNING:absl:You are saving your model as an HDF5 file via `model.save()` or `keras.saving.save_model(model)`. This file format is considered legacy. We recommend using instead the native Keras format, e.g. `model.save('my_model.keras')` or `keras.saving.save_model(model, 'my_model.keras')`. \n"
     ]
    }
   ],
   "source": [
    "model.save('stock_prediction_model.h5')"
   ]
  },
  {
   "cell_type": "code",
   "execution_count": 29,
   "id": "89cf9dc7-4e14-4c80-82bc-d6dcac8c98a2",
   "metadata": {
    "tags": []
   },
   "outputs": [],
   "source": [
    "pas_100_days = data_train.tail(100)"
   ]
  },
  {
   "cell_type": "code",
   "execution_count": 30,
   "id": "67ef7a1e-63cc-4874-9b61-634026572822",
   "metadata": {
    "tags": []
   },
   "outputs": [
    {
     "data": {
      "application/vnd.microsoft.datawrangler.viewer.v0+json": {
       "columns": [
        {
         "name": "index",
         "rawType": "int64",
         "type": "integer"
        },
        {
         "name": "close",
         "rawType": "float64",
         "type": "float"
        }
       ],
       "conversionMethod": "pd.DataFrame",
       "ref": "dea8d140-365f-41ef-a9bc-bb801b25c2d8",
       "rows": [
        [
         "0",
         "218.54"
        ],
        [
         "1",
         "217.49"
        ],
        [
         "2",
         "217.96"
        ],
        [
         "3",
         "218.24"
        ],
        [
         "4",
         "218.8"
        ]
       ],
       "shape": {
        "columns": 1,
        "rows": 5
       }
      },
      "text/html": [
       "<div>\n",
       "<style scoped>\n",
       "    .dataframe tbody tr th:only-of-type {\n",
       "        vertical-align: middle;\n",
       "    }\n",
       "\n",
       "    .dataframe tbody tr th {\n",
       "        vertical-align: top;\n",
       "    }\n",
       "\n",
       "    .dataframe thead th {\n",
       "        text-align: right;\n",
       "    }\n",
       "</style>\n",
       "<table border=\"1\" class=\"dataframe\">\n",
       "  <thead>\n",
       "    <tr style=\"text-align: right;\">\n",
       "      <th></th>\n",
       "      <th>close</th>\n",
       "    </tr>\n",
       "  </thead>\n",
       "  <tbody>\n",
       "    <tr>\n",
       "      <th>0</th>\n",
       "      <td>218.54</td>\n",
       "    </tr>\n",
       "    <tr>\n",
       "      <th>1</th>\n",
       "      <td>217.49</td>\n",
       "    </tr>\n",
       "    <tr>\n",
       "      <th>2</th>\n",
       "      <td>217.96</td>\n",
       "    </tr>\n",
       "    <tr>\n",
       "      <th>3</th>\n",
       "      <td>218.24</td>\n",
       "    </tr>\n",
       "    <tr>\n",
       "      <th>4</th>\n",
       "      <td>218.80</td>\n",
       "    </tr>\n",
       "  </tbody>\n",
       "</table>\n",
       "</div>"
      ],
      "text/plain": [
       "    close\n",
       "0  218.54\n",
       "1  217.49\n",
       "2  217.96\n",
       "3  218.24\n",
       "4  218.80"
      ]
     },
     "execution_count": 30,
     "metadata": {},
     "output_type": "execute_result"
    }
   ],
   "source": [
    "data_test = pd.concat([pas_100_days, data_test], ignore_index=True)\n",
    "data_test.head()"
   ]
  },
  {
   "cell_type": "code",
   "execution_count": 31,
   "id": "7a0512e4-0eaf-4137-b61d-8bb0e48ca041",
   "metadata": {
    "tags": []
   },
   "outputs": [
    {
     "data": {
      "text/plain": [
       "(200, 1)"
      ]
     },
     "execution_count": 31,
     "metadata": {},
     "output_type": "execute_result"
    }
   ],
   "source": [
    "data_test_scale  =  scaler.fit_transform(data_test)\n",
    "data_test_scale.shape"
   ]
  },
  {
   "cell_type": "code",
   "execution_count": 32,
   "id": "536de9d0-2cc7-41dd-b500-affd3e3fec9d",
   "metadata": {
    "tags": []
   },
   "outputs": [
    {
     "name": "stdout",
     "output_type": "stream",
     "text": [
      "(100, 100, 1) (100,)\n"
     ]
    }
   ],
   "source": [
    "x_t = []\n",
    "y_t = []\n",
    "\n",
    "for i in range(100, data_test_scale.shape[0]):\n",
    "    x_t.append(data_test_scale[i-100:i])\n",
    "    y_t.append(data_test_scale[i,0])\n",
    "x_t, y_t = np.array(x_t), np.array(y_t)\n",
    "print(x_t.shape, y_t.shape)"
   ]
  },
  {
   "cell_type": "code",
   "execution_count": 33,
   "id": "4602f57f-8832-4bf6-a50e-bb5164ff7872",
   "metadata": {
    "tags": []
   },
   "outputs": [
    {
     "name": "stdout",
     "output_type": "stream",
     "text": [
      "\u001b[1m4/4\u001b[0m \u001b[32m━━━━━━━━━━━━━━━━━━━━\u001b[0m\u001b[37m\u001b[0m \u001b[1m1s\u001b[0m 248ms/step\n"
     ]
    },
    {
     "data": {
      "text/plain": [
       "array([[0.74007714],\n",
       "       [0.7488997 ],\n",
       "       [0.75773203],\n",
       "       [0.76660883],\n",
       "       [0.77532476],\n",
       "       [0.7837271 ],\n",
       "       [0.79186195],\n",
       "       [0.7998029 ],\n",
       "       [0.8076935 ],\n",
       "       [0.8156391 ],\n",
       "       [0.8235352 ],\n",
       "       [0.83110815],\n",
       "       [0.8380495 ],\n",
       "       [0.8439024 ],\n",
       "       [0.84835005],\n",
       "       [0.8513222 ],\n",
       "       [0.8527989 ],\n",
       "       [0.85289013],\n",
       "       [0.85157734],\n",
       "       [0.8488395 ],\n",
       "       [0.84471893],\n",
       "       [0.8395126 ],\n",
       "       [0.8332384 ],\n",
       "       [0.82601523],\n",
       "       [0.81776047],\n",
       "       [0.80847806],\n",
       "       [0.79826254],\n",
       "       [0.7872564 ],\n",
       "       [0.77594924],\n",
       "       [0.7651972 ],\n",
       "       [0.7556996 ],\n",
       "       [0.74783593],\n",
       "       [0.7416905 ],\n",
       "       [0.73689675],\n",
       "       [0.7332023 ],\n",
       "       [0.73037577],\n",
       "       [0.7282505 ],\n",
       "       [0.72649646],\n",
       "       [0.7248371 ],\n",
       "       [0.7232592 ],\n",
       "       [0.7219631 ],\n",
       "       [0.72129965],\n",
       "       [0.7216336 ],\n",
       "       [0.723166  ],\n",
       "       [0.7259418 ],\n",
       "       [0.72990143],\n",
       "       [0.7348743 ],\n",
       "       [0.74068516],\n",
       "       [0.7471242 ],\n",
       "       [0.7537242 ],\n",
       "       [0.7599587 ],\n",
       "       [0.7655973 ],\n",
       "       [0.77040637],\n",
       "       [0.7741886 ],\n",
       "       [0.7768521 ],\n",
       "       [0.77839684],\n",
       "       [0.77903867],\n",
       "       [0.77861565],\n",
       "       [0.7767949 ],\n",
       "       [0.7731814 ],\n",
       "       [0.76727897],\n",
       "       [0.7588587 ],\n",
       "       [0.74795306],\n",
       "       [0.7347415 ],\n",
       "       [0.7197055 ],\n",
       "       [0.70334446],\n",
       "       [0.68641484],\n",
       "       [0.6697803 ],\n",
       "       [0.6543612 ],\n",
       "       [0.64072084],\n",
       "       [0.6292772 ],\n",
       "       [0.61989933],\n",
       "       [0.61251813],\n",
       "       [0.6070382 ],\n",
       "       [0.60333836],\n",
       "       [0.6001729 ],\n",
       "       [0.59557325],\n",
       "       [0.58767533],\n",
       "       [0.5750138 ],\n",
       "       [0.5577258 ],\n",
       "       [0.5362333 ],\n",
       "       [0.5116937 ],\n",
       "       [0.48557532],\n",
       "       [0.4591029 ],\n",
       "       [0.43296233],\n",
       "       [0.40770385],\n",
       "       [0.38358274],\n",
       "       [0.3609593 ],\n",
       "       [0.3403448 ],\n",
       "       [0.32236058],\n",
       "       [0.3075139 ],\n",
       "       [0.29613733],\n",
       "       [0.28848362],\n",
       "       [0.28467464],\n",
       "       [0.28466725],\n",
       "       [0.28785983],\n",
       "       [0.29287183],\n",
       "       [0.2983344 ],\n",
       "       [0.3030535 ],\n",
       "       [0.30625683]], dtype=float32)"
      ]
     },
     "execution_count": 33,
     "metadata": {},
     "output_type": "execute_result"
    }
   ],
   "source": [
    "y_predict = model.predict(x_t)\n",
    "y_predict"
   ]
  },
  {
   "cell_type": "code",
   "execution_count": 34,
   "id": "b02cbaf9",
   "metadata": {},
   "outputs": [
    {
     "data": {
      "text/plain": [
       "array([0.87424942, 0.90785219, 0.93602771, 0.87332564, 0.89341801,\n",
       "       0.94769053, 0.95669746, 0.99053118, 1.        , 0.96039261,\n",
       "       0.92124711, 0.90069284, 0.82482679, 0.81916859, 0.83810624,\n",
       "       0.80588915, 0.81154734, 0.74399538, 0.71570439, 0.70277136,\n",
       "       0.75577367, 0.6448037 , 0.66466513, 0.57990762, 0.59364896,\n",
       "       0.59168591, 0.58152425, 0.66327945, 0.76027714, 0.77297921,\n",
       "       0.75254042, 0.73418014, 0.64191686, 0.69722864, 0.69341801,\n",
       "       0.70207852, 0.63752887, 0.63775982, 0.69515012, 0.74422633,\n",
       "       0.79803695, 0.8334873 , 0.83198614, 0.83660508, 0.84769053,\n",
       "       0.84445727, 0.86235566, 0.86166282, 0.78452656, 0.74919169,\n",
       "       0.80161663, 0.75762125, 0.73337182, 0.73117783, 0.72644342,\n",
       "       0.76963048, 0.63579677, 0.5591224 , 0.51454965, 0.43025404,\n",
       "       0.47424942, 0.48013857, 0.46501155, 0.49445727, 0.4812933 ,\n",
       "       0.52944573, 0.55785219, 0.59272517, 0.56709007, 0.59387991,\n",
       "       0.52517321, 0.57401848, 0.58625866, 0.5943418 , 0.35531178,\n",
       "       0.18429561, 0.10438799, 0.        , 0.3051963 , 0.20785219,\n",
       "       0.29711316, 0.34757506, 0.34318707, 0.25230947, 0.28360277,\n",
       "       0.23949192, 0.31547344, 0.37159353, 0.41512702, 0.4256351 ,\n",
       "       0.43556582, 0.44792148, 0.46281755, 0.47228637, 0.38025404,\n",
       "       0.3056582 , 0.30127021, 0.27517321, 0.28949192, 0.30150115])"
      ]
     },
     "execution_count": 34,
     "metadata": {},
     "output_type": "execute_result"
    }
   ],
   "source": [
    "y_t"
   ]
  },
  {
   "cell_type": "code",
   "execution_count": 35,
   "id": "5cc1d6e2",
   "metadata": {},
   "outputs": [
    {
     "data": {
      "text/plain": [
       "array([0.01154734])"
      ]
     },
     "execution_count": 35,
     "metadata": {},
     "output_type": "execute_result"
    }
   ],
   "source": [
    "scaler.scale_"
   ]
  },
  {
   "cell_type": "code",
   "execution_count": 36,
   "id": "ca2d2d64-b69a-4eb3-b4f6-5356bfb5b74a",
   "metadata": {
    "tags": []
   },
   "outputs": [],
   "source": [
    "scale_factor = 1/scaler.scale_"
   ]
  },
  {
   "cell_type": "code",
   "execution_count": 37,
   "id": "b3e3794a-785d-4ac8-96a3-70fab6259f1c",
   "metadata": {
    "tags": []
   },
   "outputs": [],
   "source": [
    "y_predict = y_predict*scale_factor"
   ]
  },
  {
   "cell_type": "code",
   "execution_count": 38,
   "id": "5acb458b-7488-4860-9ccd-8999d67510f7",
   "metadata": {
    "tags": []
   },
   "outputs": [],
   "source": [
    "y_t = y_t * scale_factor"
   ]
  },
  {
   "cell_type": "code",
   "execution_count": 39,
   "id": "6ab280be-9494-4ea1-baf2-45fc38130366",
   "metadata": {
    "tags": []
   },
   "outputs": [
    {
     "data": {
      "image/png": "[encoded data removed]",
      "text/plain": [
       "<Figure size 1200x600 with 1 Axes>"
      ]
     },
     "metadata": {},
     "output_type": "display_data"
    }
   ],
   "source": [
    "plt.figure(figsize=(12,6))\n",
    "plt.plot(y_predict, 'r', label = 'Predicted Price')\n",
    "plt.plot(y_t, 'g', label = 'Original Price')\n",
    "plt.xlabel('Time')\n",
    "plt.ylabel('Price')\n",
    "plt.legend()\n",
    "plt.show()"
   ]
  },
  {
   "cell_type": "code",
   "execution_count": 40,
   "id": "22143940-722e-4c05-8b46-d2f7d9abb882",
   "metadata": {},
   "outputs": [],
   "source": [
    "model.save('Stock Predictions Model.keras')"
   ]
  },
  {
   "cell_type": "code",
   "execution_count": null,
   "id": "bd3bc001-da88-44ba-85d1-9b72ebfde3a6",
   "metadata": {},
   "outputs": [],
   "source": []
  },
  {
   "cell_type": "code",
   "execution_count": null,
   "id": "01e3695a-14d5-4576-851d-faa3e0ef338b",
   "metadata": {},
   "outputs": [],
   "source": []
  }
 ],
 "metadata": {
  "kernelspec": {
   "display_name": ".venv",
   "language": "python",
   "name": "python3"
  },
  "language_info": {
   "codemirror_mode": {
    "name": "ipython",
    "version": 3
   },
   "file_extension": ".py",
   "mimetype": "text/x-python",
   "name": "python",
   "nbconvert_exporter": "python",
   "pygments_lexer": "ipython3",
   "version": "3.10.0"
  }
 },
 "nbformat": 4,
 "nbformat_minor": 5
}
